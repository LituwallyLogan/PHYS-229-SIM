{
 "cells": [
  {
   "attachments": {},
   "cell_type": "markdown",
   "metadata": {},
   "source": [
    "__Week 4 Notes__\n",
    "\n",
    "__Group: Jaden Majid and Log-a-rhythm MacHale__\n",
    "\n",
    "__Date: Feb 1st, 2023__\n",
    "\n",
    "__Context__\n",
    "\n",
    "__Background and Definitions__\n",
    "\n",
    "__Pose a testable question__\n",
    "\n",
    "__Summary of experiment and results__\n",
    "\n",
    "__Organization of the paper__\n",
    "\n",
    "\n",
    "\n"
   ]
  }
 ],
 "metadata": {
  "kernelspec": {
   "display_name": "Python 3",
   "language": "python",
   "name": "python3"
  },
  "language_info": {
   "name": "python",
   "version": "3.9.6 (v3.9.6:db3ff76da1, Jun 28 2021, 11:14:58) \n[Clang 12.0.5 (clang-1205.0.22.9)]"
  },
  "orig_nbformat": 4,
  "vscode": {
   "interpreter": {
    "hash": "aee8b7b246df8f9039afb4144a1f6fd8d2ca17a180786b69acc140d282b71a49"
   }
  }
 },
 "nbformat": 4,
 "nbformat_minor": 2
}
