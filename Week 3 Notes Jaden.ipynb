{
 "cells": [
  {
   "attachments": {},
   "cell_type": "markdown",
   "metadata": {},
   "source": [
    "__Group: Jaden Majid and Logan__\n",
    "\n",
    "__Experiment: Cooling mechanisms and modeling__\n",
    "\n",
    "__Date: Wed. Jan 25 2023__\n",
    "\n",
    "## ***Activity Log*** ##\n",
    "\n",
    "14:10: Rods Remeasured with greater degree of accuracy\n",
    "\n",
    "14:40 Onwards: worked on project code\n",
    "\n",
    "__Brief Statement of Goal__\n",
    "\n",
    "The goal of this experiment is to verify whether the 2 equations below accurately model the cooling of aluminium rods by fitting emissivities of the rods through finding accurate emissivities for the objects with a chi-square fit.\n",
    "\n",
    "Black Body Radiation: $\\dfrac{dQ}{dt}=ae \\sigma T^4$,\n",
    "\n",
    "dQ/dt for Convection on a cylinder: $\\dfrac{dQ}{dt}=-hA(T-T_0)$,\n",
    "\n",
    "$h=1.32\\dfrac{J}{m^{7/4}sK^{5/4}}(\\dfrac{T-T_0}{D})^{1/4}$,\n",
    "\n",
    "__Statement of the Measurements Needed__\n",
    "\n",
    "The temperature of each rod over time is needed after it is heated, of its cooling behaviour. Furthermore, the ambient temperature of the room is needed to generate a measurement of  incident radiation on the rod.\n",
    "\n",
    "__Statement of Equations/Analysis used__\n",
    "\n",
    "The following equations will be used to model the cooling:\n",
    "\n",
    "Black Body Radiation(b): $\\dfrac{dQ}{dt}=ae \\sigma T^4$,\n",
    "\n",
    "dQ/dt for Convection on a cylinder(c): $\\dfrac{dQ}{dt}=-hA(T-T_0)$,\n",
    "\n",
    "$h=1.32\\dfrac{J}{m^{7/4}sK^{5/4}}(\\dfrac{T-T_0}{D})^{1/4}$,\n",
    "\n",
    "$\\dfrac{dQ_{tot}}{dt}=b+c$\n",
    "\n",
    "Furthermore, the data fit accuracy will be determined with the following equation:\n",
    "\n",
    "$\\chi^2=\\sum{\\dfrac{{data_i-model_i}^2}{{\\sigma_{data}}^2}}$\n",
    "\n",
    "The model will be run with a recursive emissivity finder function, which minimizes onto the emissivity of the rod by breaking up the possible emissivity range of 0-1 into n parts, then recursively \"zooming in\" onto the range of data points tested. the final emissivity is then reported for the rod and dataset, as well as the corresponding chi-square of the best fit found.\n",
    "\n",
    "The main source of uncertainty lies in the timing of data measurements and the actual temperatures recorded. Timing of the data measurements is difficult, since an analog measurement must be made, which can occur with about +-1.5s uncertainty, affecting data accuracy, while actual temperature recorded can vary due to parallax effect(read error) or general error in the manufacturing of the thermometer.\n",
    "\n",
    "__Description of Procedure__\n",
    "\n",
    "All three rods must be heated to some equal temperature(this was done by leaving the rods in boiling water), then taken out and placed into a stand that can hold the rods vertically by their wooden handles. The temperature was then measured at staggered intervals to ensure that the measurement of each rod occurs at equal time interval(20s was used). Thermometers should be placed into hole at the top of each rod immediately after it is placed into the stand. Then, at each time interval chosen the temperature(C) of each rod should be recorded into a csv, and converted into kelvin(K).\n",
    "\n",
    "__Diagram__\n",
    "<img src=\"Phys229EXP1Schematic.png\">\n",
    "(The diagram couldn't be attached to converted pdf so here is the caption):\n",
    "The cylinders should be vertically attached to the stand with thermometers placed into the tops of the rods as seen above.\n",
    "\n",
    "\n"
   ]
  },
  {
   "cell_type": "markdown",
   "metadata": {},
   "source": []
  }
 ],
 "metadata": {
  "kernelspec": {
   "display_name": "Python 3",
   "language": "python",
   "name": "python3"
  },
  "language_info": {
   "name": "python",
   "version": "3.9.6 (v3.9.6:db3ff76da1, Jun 28 2021, 11:14:58) \n[Clang 12.0.5 (clang-1205.0.22.9)]"
  },
  "orig_nbformat": 4,
  "vscode": {
   "interpreter": {
    "hash": "aee8b7b246df8f9039afb4144a1f6fd8d2ca17a180786b69acc140d282b71a49"
   }
  }
 },
 "nbformat": 4,
 "nbformat_minor": 2
}
