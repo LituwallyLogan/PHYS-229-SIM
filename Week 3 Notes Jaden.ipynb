{
 "cells": [
  {
   "attachments": {},
   "cell_type": "markdown",
   "metadata": {},
   "source": [
    "__Group: Jaden Majid and Logan__\n",
    "\n",
    "__Experiment: Cooling mechanisms and modeling__\n",
    "\n",
    "__Date: Wed. Jan 25 2023__\n",
    "\n",
    "## ***Activity Log*** ##\n",
    "\n",
    "14:10: Rods Remeasured with greater degree of accuracy\n",
    "\n",
    "\n",
    "__Brief Statement of Goal__\n",
    "\n",
    "The goal of this experiment is to verify whether the following equations accurately model the cooling of aluminium rods:\n",
    "\n",
    "\n",
    "\n",
    "\n",
    "__Statement of the Measurements Needed__\n",
    "\n",
    "\n",
    "__Statement of Equations/Analysis used__\n",
    "\n",
    "\n",
    "__Description of Procedure__\n",
    "\n",
    "\n",
    "__Diagram__\n",
    "\n"
   ]
  },
  {
   "cell_type": "markdown",
   "metadata": {},
   "source": []
  }
 ],
 "metadata": {
  "kernelspec": {
   "display_name": "Python 3",
   "language": "python",
   "name": "python3"
  },
  "language_info": {
   "name": "python",
   "version": "3.9.6 (v3.9.6:db3ff76da1, Jun 28 2021, 11:14:58) \n[Clang 12.0.5 (clang-1205.0.22.9)]"
  },
  "orig_nbformat": 4,
  "vscode": {
   "interpreter": {
    "hash": "aee8b7b246df8f9039afb4144a1f6fd8d2ca17a180786b69acc140d282b71a49"
   }
  }
 },
 "nbformat": 4,
 "nbformat_minor": 2
}
