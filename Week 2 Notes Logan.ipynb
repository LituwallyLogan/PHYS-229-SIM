{
 "cells": [
  {
   "attachments": {},
   "cell_type": "markdown",
   "metadata": {},
   "source": [
    "## Week 2 Notes, Jan 18 ##\n",
    "__Experiment: Cooling Mechanisms and Modelling__\n",
    "\n",
    "__Group: Logan MacHale and Jaden Majid__\n",
    "\n",
    "__14:20__ Rods were placed into boiling water.\n",
    "\n",
    "__15:10__ Rods were removed from boiling water and temperature was observed every minute for 1 hour.\n",
    "\n",
    "## Data Collection ##\n",
    "\n",
    "Data was collected by measing the temperature of the aluminum cylinders every 60s. The temperature measurements for each cylinder were spaced 20s apart during the minute so that each time the temperature was observed could be more precisely measured.\n",
    "\n"
   ]
  }
 ],
 "metadata": {
  "language_info": {
   "name": "python"
  },
  "orig_nbformat": 4
 },
 "nbformat": 4,
 "nbformat_minor": 2
}
