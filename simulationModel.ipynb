{
 "cells": [
  {
   "cell_type": "code",
   "execution_count": null,
   "metadata": {},
   "outputs": [],
   "source": [
    "import numpy as np\n",
    "from scipy import integrate\n",
    "import matplotlib.pyplot as plt\n",
    "\n",
    "sigma = 5.670374419E-8\n",
    "\n",
    "emmL = 0.9\n",
    "emmP = 0.05\n",
    "emmR = 0.1\n",
    "\n",
    "rhoAl = 2.71E-6\n",
    "hcAl = 897\n",
    "\n",
    "volL = 141,534\n",
    "volP = 111,683\n",
    "volR = 157,918\n",
    "\n",
    "saL = 22,217\n",
    "saP = 20,873\n",
    "saR = 24,750\n",
    "\n",
    "radL = 13E-3\n",
    "radP = 11E-3\n",
    "radR = 13E-3\n",
    "\n",
    "massL = rhoAl * volL\n",
    "massP = rhoAl * volP\n",
    "massR = rhoAl * volR\n",
    "\n",
    "def dydt_arr(t, y_arr):\n",
    "    \"\"\"Relates the used physical quantities to their differential\n",
    "    equations for use in the scipy numerical integration function\"\"\"\n",
    "\n",
    "    x = y_arr[0]\n",
    "    y = y_arr[1]\n",
    "    v_x = y_arr[2]\n",
    "    v_y = y_arr[3]\n",
    "    v = np.sqrt(v_x ** 2 + v_y ** 2)      # The speed of soccer ball\n",
    "\n",
    "    # This is [dx/dt, dy/dt, dv_x/dt, dv_y/dt]\n",
    "    return np.array([v_x, v_y, -b * v * v_x / m, -g - b * v * v_y / m])"
   ]
  }
 ],
 "metadata": {
  "kernelspec": {
   "display_name": "Python 3",
   "language": "python",
   "name": "python3"
  },
  "language_info": {
   "name": "python",
   "version": "3.10.7 (v3.10.7:6cc6b13308, Sep  5 2022, 14:02:52) [Clang 13.0.0 (clang-1300.0.29.30)]"
  },
  "orig_nbformat": 4,
  "vscode": {
   "interpreter": {
    "hash": "aee8b7b246df8f9039afb4144a1f6fd8d2ca17a180786b69acc140d282b71a49"
   }
  }
 },
 "nbformat": 4,
 "nbformat_minor": 2
}
